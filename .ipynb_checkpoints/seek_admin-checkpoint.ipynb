{
 "cells": [
  {
   "cell_type": "code",
   "execution_count": 5,
   "id": "35cf6a20",
   "metadata": {},
   "outputs": [],
   "source": [
    "import pandas as pd\n",
    "import openpyxl\n",
    "import xlrd\n",
    "import wordninja"
   ]
  },
  {
   "cell_type": "code",
   "execution_count": 12,
   "id": "2d71f89f",
   "metadata": {},
   "outputs": [
    {
     "name": "stdout",
     "output_type": "stream",
     "text": [
      "                                      0  \\\n",
      "0                         Administrator   \n",
      "1                          Receptionist   \n",
      "2          Prosecutions Support Officer   \n",
      "3  Early Childhood Centre Administrator   \n",
      "4        Business Support Administrator   \n",
      "\n",
      "                                                   1  \\\n",
      "0  https://www.seek.co.nz/job/50582301?type=promo...   \n",
      "1  https://www.seek.co.nz/job/50620889?type=promo...   \n",
      "2  https://www.seek.co.nz/job/50622169?type=stand...   \n",
      "3  https://www.seek.co.nz/job/50639620?type=stand...   \n",
      "4  https://www.seek.co.nz/job/50622432?type=stand...   \n",
      "\n",
      "                                          2  \\\n",
      "0                                       NaN   \n",
      "1                      Avenues Orthodontics   \n",
      "2                        New Zealand Police   \n",
      "3  Kew Pacific Island Early Learning Centre   \n",
      "4                                       NaN   \n",
      "\n",
      "                                                   3  \\\n",
      "0  location: Bay of PlentyBay of Plentyarea: Taur...   \n",
      "1  location: Bay of PlentyBay of Plentyarea: Taur...   \n",
      "2                         location: AucklandAuckland   \n",
      "3  location: SouthlandSouthlandarea: Invercargill...   \n",
      "4  location: CanterburyCanterburyarea: Christchur...   \n",
      "\n",
      "                                4  \\\n",
      "0  Featured,at,Private Advertiser   \n",
      "1                     Featured,at   \n",
      "2                       4d ago,at   \n",
      "3                       1h ago,at   \n",
      "4    4d ago,at,Private Advertiser   \n",
      "\n",
      "                                                   5  \n",
      "0  classification: Administration & Office Suppor...  \n",
      "1  classification: Administration & Office Suppor...  \n",
      "2  classification: Administration & Office Suppor...  \n",
      "3  classification: Administration & Office Suppor...  \n",
      "4  classification: Administration & Office Suppor...  \n"
     ]
    }
   ],
   "source": [
    "#Convert the file to csv, read the file, add new colomn name\n",
    "jobs = pd.read_excel('NZ_Admin_JOBS.xlsx', index_col=None, header=None, skiprows=1)\n",
    "# jobs.columns = ['job_name', 'job_link', 'company_name', 'location', 'post_date', 'classification']\n",
    "pd.set_option('display.max_columns', None)\n",
    "pd.set_option('display.max_rows',10)\n",
    "# jobs.columns = ['job_name', 'job_link', 'company_name', 'location', 'post_date', 'classification']\n",
    "print(jobs.head())"
   ]
  },
  {
   "cell_type": "code",
   "execution_count": 19,
   "id": "99403a2a",
   "metadata": {},
   "outputs": [
    {
     "name": "stdout",
     "output_type": "stream",
     "text": [
      "(2708, 6)\n"
     ]
    }
   ],
   "source": [
    "print(jobs.shape)"
   ]
  },
  {
   "cell_type": "code",
   "execution_count": 20,
   "id": "30bbc6f7",
   "metadata": {},
   "outputs": [
    {
     "name": "stdout",
     "output_type": "stream",
     "text": [
      "<class 'pandas.core.frame.DataFrame'>\n",
      "RangeIndex: 2708 entries, 0 to 2707\n",
      "Data columns (total 6 columns):\n",
      " #   Column  Non-Null Count  Dtype \n",
      "---  ------  --------------  ----- \n",
      " 0   0       2708 non-null   object\n",
      " 1   1       2708 non-null   object\n",
      " 2   2       2708 non-null   object\n",
      " 3   3       2708 non-null   object\n",
      " 4   4       2708 non-null   object\n",
      " 5   5       2708 non-null   object\n",
      "dtypes: object(6)\n",
      "memory usage: 127.1+ KB\n",
      "None\n"
     ]
    }
   ],
   "source": [
    "print(jobs.info())"
   ]
  },
  {
   "cell_type": "code",
   "execution_count": 21,
   "id": "61221aab",
   "metadata": {},
   "outputs": [
    {
     "name": "stdout",
     "output_type": "stream",
     "text": [
      "                          0  \\\n",
      "count                  2708   \n",
      "unique                  548   \n",
      "top     Executive Assistant   \n",
      "freq                    301   \n",
      "\n",
      "                                                        1  \\\n",
      "count                                                2708   \n",
      "unique                                               2708   \n",
      "top     https://www.seek.co.nz/job/50582301?type=promo...   \n",
      "freq                                                    1   \n",
      "\n",
      "                                                        2  \\\n",
      "count                                                2708   \n",
      "unique                                                476   \n",
      "top     Beyond Recruitment - Winner – Best Innovation ...   \n",
      "freq                                                  285   \n",
      "\n",
      "                                                        3           4  \\\n",
      "count                                                2708        2708   \n",
      "unique                                                147          54   \n",
      "top     location: AucklandAucklandarea: Auckland Centr...  27d ago,at   \n",
      "freq                                                  654         572   \n",
      "\n",
      "                                                        5  \n",
      "count                                                2708  \n",
      "unique                                                 93  \n",
      "top     classification: Administration & Office Suppor...  \n",
      "freq                                                  715  \n"
     ]
    }
   ],
   "source": [
    "print(jobs.describe())"
   ]
  },
  {
   "cell_type": "code",
   "execution_count": 15,
   "id": "8f6343e3",
   "metadata": {},
   "outputs": [
    {
     "name": "stdout",
     "output_type": "stream",
     "text": [
      "0     0\n",
      "1     0\n",
      "2    22\n",
      "3     0\n",
      "4     0\n",
      "5     0\n",
      "dtype: int64\n"
     ]
    }
   ],
   "source": [
    "missing_values= jobs.isnull().sum()\n",
    "print(missing_values)"
   ]
  },
  {
   "cell_type": "code",
   "execution_count": 18,
   "id": "10bdcb01",
   "metadata": {},
   "outputs": [
    {
     "name": "stdout",
     "output_type": "stream",
     "text": [
      "0                                        unknown\n",
      "1                           Avenues Orthodontics\n",
      "2                             New Zealand Police\n",
      "3       Kew Pacific Island Early Learning Centre\n",
      "4                                        unknown\n",
      "                          ...                   \n",
      "2703                       Hays Talent Solutions\n",
      "2704                      one eighty recruitment\n",
      "2705                       Asset Recruitment Ltd\n",
      "2706                       Asset Recruitment Ltd\n",
      "2707                      Alpha Recruitment - NZ\n",
      "Name: 2, Length: 2708, dtype: object\n"
     ]
    }
   ],
   "source": [
    "jobs[2] = jobs[2].fillna(value='unknown')\n",
    "print(jobs[2])"
   ]
  },
  {
   "cell_type": "code",
   "execution_count": 24,
   "id": "0b851349",
   "metadata": {},
   "outputs": [
    {
     "name": "stdout",
     "output_type": "stream",
     "text": [
      "0                              Administrator\n",
      "1                               Receptionist\n",
      "2               Prosecutions Support Officer\n",
      "3       Early Childhood Centre Administrator\n",
      "4             Business Support Administrator\n",
      "                        ...                 \n",
      "2703                     Key Account Manager\n",
      "2704                     Executive Assistant\n",
      "2705                  Temporary Office Roles\n",
      "2706                  Temporary Office Roles\n",
      "2707                     Executive Assistant\n",
      "Name: 0, Length: 2708, dtype: object\n"
     ]
    }
   ],
   "source": [
    "jobs[1] = jobs[0].str.title()\n",
    "print(jobs[0])"
   ]
  },
  {
   "cell_type": "code",
   "execution_count": null,
   "id": "f3d43749",
   "metadata": {},
   "outputs": [],
   "source": [
    "#Extract the Salary information in Location column\n"
   ]
  }
 ],
 "metadata": {
  "kernelspec": {
   "display_name": "Python 3 (ipykernel)",
   "language": "python",
   "name": "python3"
  },
  "language_info": {
   "codemirror_mode": {
    "name": "ipython",
    "version": 3
   },
   "file_extension": ".py",
   "mimetype": "text/x-python",
   "name": "python",
   "nbconvert_exporter": "python",
   "pygments_lexer": "ipython3",
   "version": "3.11.2"
  }
 },
 "nbformat": 4,
 "nbformat_minor": 5
}
