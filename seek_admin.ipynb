{
 "cells": [
  {
   "cell_type": "code",
   "execution_count": 10,
   "id": "35cf6a20",
   "metadata": {},
   "outputs": [],
   "source": [
    "import pandas as pd"
   ]
  },
  {
   "cell_type": "code",
   "execution_count": 13,
   "id": "90200cfd",
   "metadata": {},
   "outputs": [
    {
     "name": "stdout",
     "output_type": "stream",
     "text": [
      "                                      0  \\\n",
      "0                                   字段1   \n",
      "1                         Administrator   \n",
      "2                          Receptionist   \n",
      "3          Prosecutions Support Officer   \n",
      "4  Early Childhood Centre Administrator   \n",
      "\n",
      "                                                   1  \\\n",
      "0                                           字段1_link   \n",
      "1  https://www.seek.co.nz/job/50582301?type=promo...   \n",
      "2  https://www.seek.co.nz/job/50620889?type=promo...   \n",
      "3  https://www.seek.co.nz/job/50622169?type=stand...   \n",
      "4  https://www.seek.co.nz/job/50639620?type=stand...   \n",
      "\n",
      "                                          2  \\\n",
      "0                                       字段2   \n",
      "1                                       NaN   \n",
      "2                      Avenues Orthodontics   \n",
      "3                        New Zealand Police   \n",
      "4  Kew Pacific Island Early Learning Centre   \n",
      "\n",
      "                                                   3  \\\n",
      "0                                                字段3   \n",
      "1  location: Bay of PlentyBay of Plentyarea: Taur...   \n",
      "2  location: Bay of PlentyBay of Plentyarea: Taur...   \n",
      "3                         location: AucklandAuckland   \n",
      "4  location: SouthlandSouthlandarea: Invercargill...   \n",
      "\n",
      "                                4  \\\n",
      "0                             字段4   \n",
      "1  Featured,at,Private Advertiser   \n",
      "2                     Featured,at   \n",
      "3                       4d ago,at   \n",
      "4                       1h ago,at   \n",
      "\n",
      "                                                   5  \n",
      "0                                                字段5  \n",
      "1  classification: Administration & Office Suppor...  \n",
      "2  classification: Administration & Office Suppor...  \n",
      "3  classification: Administration & Office Suppor...  \n",
      "4  classification: Administration & Office Suppor...  \n"
     ]
    }
   ],
   "source": [
    "#Convert the file to csv, read the file, add new colomn name\n",
    "jobs = pd.read_excel(r'NZ_Admin_JOBS.xlsx',header=None)\n",
    "print(jobs.head())"
   ]
  },
  {
   "cell_type": "code",
   "execution_count": null,
   "id": "3f1202d1",
   "metadata": {},
   "outputs": [],
   "source": [
    "print(jobs.shape)"
   ]
  },
  {
   "cell_type": "code",
   "execution_count": 4,
   "id": "30bbc6f7",
   "metadata": {},
   "outputs": [
    {
     "name": "stdout",
     "output_type": "stream",
     "text": [
      "<class 'pandas.core.frame.DataFrame'>\n",
      "RangeIndex: 2709 entries, 0 to 2708\n",
      "Data columns (total 6 columns):\n",
      " #   Column  Non-Null Count  Dtype \n",
      "---  ------  --------------  ----- \n",
      " 0   0       2709 non-null   object\n",
      " 1   1       2709 non-null   object\n",
      " 2   2       2687 non-null   object\n",
      " 3   3       2709 non-null   object\n",
      " 4   4       2709 non-null   object\n",
      " 5   5       2709 non-null   object\n",
      "dtypes: object(6)\n",
      "memory usage: 127.1+ KB\n",
      "None\n"
     ]
    }
   ],
   "source": [
    "print(jobs.info())"
   ]
  },
  {
   "cell_type": "code",
   "execution_count": 5,
   "id": "61221aab",
   "metadata": {},
   "outputs": [
    {
     "name": "stdout",
     "output_type": "stream",
     "text": [
      "                          0         1  \\\n",
      "count                  2709      2709   \n",
      "unique                  549      2709   \n",
      "top     Executive Assistant  字段1_link   \n",
      "freq                    301         1   \n",
      "\n",
      "                                                        2  \\\n",
      "count                                                2687   \n",
      "unique                                                476   \n",
      "top     Beyond Recruitment - Winner – Best Innovation ...   \n",
      "freq                                                  285   \n",
      "\n",
      "                                                        3           4  \\\n",
      "count                                                2709        2709   \n",
      "unique                                                148          55   \n",
      "top     location: AucklandAucklandarea: Auckland Centr...  27d ago,at   \n",
      "freq                                                  654         572   \n",
      "\n",
      "                                                        5  \n",
      "count                                                2709  \n",
      "unique                                                 94  \n",
      "top     classification: Administration & Office Suppor...  \n",
      "freq                                                  715  \n"
     ]
    }
   ],
   "source": [
    "print(jobs.describe())"
   ]
  },
  {
   "cell_type": "code",
   "execution_count": 6,
   "id": "8f6343e3",
   "metadata": {},
   "outputs": [
    {
     "name": "stdout",
     "output_type": "stream",
     "text": [
      "0     0\n",
      "1     0\n",
      "2    22\n",
      "3     0\n",
      "4     0\n",
      "5     0\n",
      "dtype: int64\n"
     ]
    }
   ],
   "source": [
    "missing_values= jobs.isnull().sum()\n",
    "print(missing_values)"
   ]
  },
  {
   "cell_type": "code",
   "execution_count": 7,
   "id": "10bdcb01",
   "metadata": {},
   "outputs": [
    {
     "name": "stdout",
     "output_type": "stream",
     "text": [
      "0                                            字段2\n",
      "1                                        unknown\n",
      "2                           Avenues Orthodontics\n",
      "3                             New Zealand Police\n",
      "4       Kew Pacific Island Early Learning Centre\n",
      "                          ...                   \n",
      "2704                       Hays Talent Solutions\n",
      "2705                      one eighty recruitment\n",
      "2706                       Asset Recruitment Ltd\n",
      "2707                       Asset Recruitment Ltd\n",
      "2708                      Alpha Recruitment - NZ\n",
      "Name: 2, Length: 2709, dtype: object\n"
     ]
    }
   ],
   "source": [
    "jobs[2] = jobs[2].fillna(value='unknown')\n",
    "print(jobs[2])"
   ]
  },
  {
   "cell_type": "code",
   "execution_count": 8,
   "id": "0b851349",
   "metadata": {},
   "outputs": [
    {
     "name": "stdout",
     "output_type": "stream",
     "text": [
      "0                                        字段1\n",
      "1                              Administrator\n",
      "2                               Receptionist\n",
      "3               Prosecutions Support Officer\n",
      "4       Early Childhood Centre Administrator\n",
      "                        ...                 \n",
      "2704                     Key Account Manager\n",
      "2705                     Executive Assistant\n",
      "2706                  Temporary Office Roles\n",
      "2707                  Temporary Office Roles\n",
      "2708                     Executive Assistant\n",
      "Name: 0, Length: 2709, dtype: object\n"
     ]
    }
   ],
   "source": [
    "jobs[1] = jobs[0].str.title()\n",
    "print(jobs[0])"
   ]
  },
  {
   "cell_type": "code",
   "execution_count": 9,
   "id": "f3d43749",
   "metadata": {},
   "outputs": [],
   "source": [
    "#Extract the Salary information in Location column\n"
   ]
  },
  {
   "cell_type": "code",
   "execution_count": null,
   "id": "a4bd53f9",
   "metadata": {},
   "outputs": [],
   "source": []
  },
  {
   "cell_type": "code",
   "execution_count": null,
   "id": "7f67b157",
   "metadata": {},
   "outputs": [],
   "source": []
  },
  {
   "cell_type": "code",
   "execution_count": null,
   "id": "14c6e673",
   "metadata": {},
   "outputs": [],
   "source": []
  },
  {
   "cell_type": "code",
   "execution_count": null,
   "id": "ab25b29a",
   "metadata": {},
   "outputs": [],
   "source": []
  }
 ],
 "metadata": {
  "kernelspec": {
   "display_name": "Python 3 (ipykernel)",
   "language": "python",
   "name": "python3"
  },
  "language_info": {
   "codemirror_mode": {
    "name": "ipython",
    "version": 3
   },
   "file_extension": ".py",
   "mimetype": "text/x-python",
   "name": "python",
   "nbconvert_exporter": "python",
   "pygments_lexer": "ipython3",
   "version": "3.11.2"
  }
 },
 "nbformat": 4,
 "nbformat_minor": 5
}
